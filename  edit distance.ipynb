{
 "cells": [
  {
   "cell_type": "code",
   "execution_count": 30,
   "metadata": {},
   "outputs": [],
   "source": [
    "def pre_process(initial_word):\n",
    "    proceed_word = ''\n",
    "    \n",
    "    #replace arabic charactors\n",
    "    \n",
    "    #replace notations\n",
    "    \n",
    "    #replace semi-space with space\n",
    "    \n",
    "    #make all charactors in lower case\n",
    "    \n",
    "    return proceed_word"
   ]
  },
  {
   "cell_type": "code",
   "execution_count": 31,
   "metadata": {},
   "outputs": [],
   "source": [
    "def name_find_match(keyword_list, store_product):\n",
    "    \n",
    "    m = len(keyword_list)\n",
    "    match_count = 0\n",
    "    \n",
    "    for item in keyword_list:\n",
    "        if store_product.contains(item):\n",
    "            match_count += 1\n",
    "            \n",
    "    return double(match_count)/double(m)"
   ]
  },
  {
   "cell_type": "markdown",
   "metadata": {},
   "source": [
    "Order List:\n",
    "    a) find category: \n",
    "        select leaves: not parent_id of any\n",
    "        by name, by cat_path\n",
    "    b) if matched product: by name\n",
    "       a) is new\n",
    "           create product\n",
    "       b) not new: match\n",
    "           update all"
   ]
  },
  {
   "cell_type": "code",
   "execution_count": 5,
   "metadata": {},
   "outputs": [
    {
     "name": "stdout",
     "output_type": "stream",
     "text": [
      "[0, 0.3, 0.6, 0.8999999999999999]\n",
      "[0.5, 0.2, 0.5, 0.8]\n",
      "[1.0, 0.7, 0.4, 0.7]\n",
      "[1.5, 1.2, 0.8999999999999999, 0.6000000000000001]\n",
      "0.6000000000000001\n",
      "[0, 1, 2, 3]\n",
      "[1, 2, 3, 4]\n",
      "[2, 3, 4, 5]\n",
      "[3, 4, 5, 6]\n",
      "6\n",
      "[0, 2, 4, 6]\n",
      "[2, 1, 3, 5]\n",
      "[4, 3, 2, 4]\n",
      "[6, 5, 4, 3]\n",
      "3\n"
     ]
    }
   ],
   "source": [
    "def iterative_levenshtein(s, t, costs=(0.5, 0.3, 0.2)):\n",
    "    \"\"\" \n",
    "        iterative_levenshtein(s, t) -> ldist\n",
    "        ldist is the Levenshtein distance between the strings \n",
    "        s and t.\n",
    "        For all i and j, dist[i,j] will contain the Levenshtein \n",
    "        distance between the first i characters of s and the \n",
    "        first j characters of t\n",
    "        \n",
    "        costs: a tuple or a list with three integers (d, i, s)\n",
    "               where d defines the costs for a deletion\n",
    "                     i defines the costs for an insertion and\n",
    "                     s defines the costs for a substitution\n",
    "    \"\"\"\n",
    "    rows = len(s)+1\n",
    "    cols = len(t)+1\n",
    "    deletes, inserts, substitutes = costs\n",
    "    \n",
    "    dist = [[0 for x in range(cols)] for x in range(rows)]\n",
    "    # source prefixes can be transformed into empty strings \n",
    "    # by deletions:\n",
    "    for row in range(1, rows):\n",
    "        dist[row][0] = row * deletes\n",
    "    # target prefixes can be created from an empty source string\n",
    "    # by inserting the characters\n",
    "    for col in range(1, cols):\n",
    "        dist[0][col] = col * inserts\n",
    "        \n",
    "    for col in range(1, cols):\n",
    "        for row in range(1, rows):\n",
    "            if s[row-1] == t[col-1]:\n",
    "                cost = 0\n",
    "            else:\n",
    "                cost = substitutes\n",
    "            dist[row][col] = min(dist[row-1][col] + deletes,\n",
    "                                 dist[row][col-1] + inserts,\n",
    "                                 dist[row-1][col-1] + cost) # substitution\n",
    "    for r in range(rows):\n",
    "        print(dist[r])\n",
    "    \n",
    " \n",
    "    return dist[row][col]\n",
    "# default:\n",
    "print(iterative_levenshtein(\"abc\", \"xyz\"))\n",
    "# the costs for substitions are twice as high as inserts and delets:\n",
    "print(iterative_levenshtein(\"abc\", \"xyz\", costs=(1, 1, 2)))\n",
    "# inserts and deletes are twice as high as substitutes\n",
    "print(iterative_levenshtein(\"abc\", \"xyz\", costs=(2, 2, 1)))"
   ]
  },
  {
   "cell_type": "code",
   "execution_count": 16,
   "metadata": {},
   "outputs": [
    {
     "name": "stdout",
     "output_type": "stream",
     "text": [
      "[0, 2, 7, 13]\n",
      "[7, 8, 8, 7]\n",
      "[8, 9, 9, 8]\n",
      "[11, 8, 12, 11]\n",
      "11\n"
     ]
    }
   ],
   "source": [
    "def iterative_levenshtein(s, t, **weight_dict):\n",
    "    \"\"\" \n",
    "        iterative_levenshtein(s, t) -> ldist\n",
    "        ldist is the Levenshtein distance between the strings \n",
    "        s and t.\n",
    "        For all i and j, dist[i,j] will contain the Levenshtein \n",
    "        distance between the first i characters of s and the \n",
    "        first j characters of t\n",
    "        \n",
    "        weight_dict: keyword parameters setting the costs for characters,\n",
    "                     the default value for a character will be 1\n",
    "    \"\"\"\n",
    "    rows = len(s)+1\n",
    "    cols = len(t)+1\n",
    "    \n",
    "    alphabet = \"abcdefghijklmnopqrstuvwxyz\"\n",
    "    w = dict( (x, (1, 1, 1)) for x in alphabet + alphabet.upper())\n",
    "    if weight_dict:\n",
    "        w.update(weight_dict)\n",
    "    \n",
    "    dist = [[0 for x in range(cols)] for x in range(rows)]\n",
    "    # source prefixes can be transformed into empty strings \n",
    "    # by deletions:\n",
    "    for row in range(1, rows):\n",
    "        dist[row][0] = dist[row-1][0] + w[s[row-1]][0]\n",
    "    # target prefixes can be created from an empty source string\n",
    "    # by inserting the characters\n",
    "    for col in range(1, cols):\n",
    "        dist[0][col] = dist[0][col-1] + w[t[col-1]][1]\n",
    "        \n",
    "    for col in range(1, cols):\n",
    "        for row in range(1, rows):\n",
    "            deletes = w[s[row-1]][0]\n",
    "            inserts = w[t[col-1]][1]\n",
    "            subs = max( (w[s[row-1]][2], w[t[col-1]][2]))\n",
    "            if s[row-1] == t[col-1]:\n",
    "                subs = 0\n",
    "            else:\n",
    "                subs = subs\n",
    "            dist[row][col] = min(dist[row-1][col] + deletes,\n",
    "                                 dist[row][col-1] + inserts,\n",
    "                                 dist[row-1][col-1] + subs) # substitution\n",
    "    for r in range(rows):\n",
    "        print(dist[r])\n",
    "    \n",
    " \n",
    "    return dist[row][col]\n",
    "# default:\n",
    "print(iterative_levenshtein(\"abx\", \n",
    "                            \"xya\", \n",
    "                            x=(3, 2, 8),\n",
    "                            y=(4, 5, 4),\n",
    "                            a=(7, 6, 6)) )\n",
    "#print(iterative_levenshtein(\"abc\", \"xyz\", costs=(1,1,substitution_costs)))"
   ]
  },
  {
   "cell_type": "code",
   "execution_count": 2,
   "metadata": {},
   "outputs": [
    {
     "name": "stdout",
     "output_type": "stream",
     "text": [
      "2\n"
     ]
    }
   ],
   "source": [
    "def iterative_levenshtein(s, t):\n",
    "    \"\"\" \n",
    "        iterative_levenshtein(s, t) -> ldist\n",
    "        ldist is the Levenshtein distance between the strings \n",
    "        s and t.\n",
    "        For all i and j, dist[i,j] will contain the Levenshtein \n",
    "        distance between the first i characters of s and the \n",
    "        first j characters of t\n",
    "    \"\"\"\n",
    "    rows = len(s)+1\n",
    "    cols = len(t)+1\n",
    "    dist = [[0 for x in range(cols)] for x in range(rows)]\n",
    "    # source prefixes can be transformed into empty strings \n",
    "    # by deletions:\n",
    "    for i in range(1, rows):\n",
    "        dist[i][0] = i\n",
    "    # target prefixes can be created from an empty source string\n",
    "    # by inserting the characters\n",
    "    for i in range(1, cols):\n",
    "        dist[0][i] = i\n",
    "        \n",
    "    for col in range(1, cols):\n",
    "        for row in range(1, rows):\n",
    "            if s[row-1] == t[col-1]:\n",
    "                cost = 0\n",
    "            else:\n",
    "                cost = 1\n",
    "            dist[row][col] = min(dist[row-1][col] + 1,      # deletion\n",
    "                                 dist[row][col-1] + 1,      # insertion\n",
    "                                 dist[row-1][col-1] + cost) # substitution\n",
    "    #for r in range(rows):\n",
    "        #print(dist[r])\n",
    "    \n",
    " \n",
    "    return dist[row][col]\n",
    "print(iterative_levenshtein(\"سلام\", \"سالم\"))"
   ]
  },
  {
   "cell_type": "code",
   "execution_count": 18,
   "metadata": {},
   "outputs": [
    {
     "name": "stdout",
     "output_type": "stream",
     "text": [
      "Geekst\n"
     ]
    }
   ],
   "source": [
    "# Function to find Longest Common Sub-string \n",
    "\n",
    "from difflib import SequenceMatcher \n",
    "\n",
    "def longestSubstring(str1,str2): \n",
    "\n",
    "\t# initialize SequenceMatcher object with \n",
    "\t# input string \n",
    "\tseqMatch = SequenceMatcher(None,str1,str2) \n",
    "\n",
    "\t# find match of longest sub-string \n",
    "\t# output will be like Match(a=0, b=0, size=5) \n",
    "\tmatch = seqMatch.find_longest_match(0, len(str1), 0, len(str2)) \n",
    "\n",
    "\t# print longest substring \n",
    "\tif (match.size!=0): \n",
    "\t\tprint (str1[match.a: match.a + match.size]) \n",
    "\telse: \n",
    "\t\tprint ('No longest common sub-string found') \n",
    "\n",
    "# Driver program \n",
    "if __name__ == \"__main__\": \n",
    "\tstr1 = 'dsdsGeekstforGeeks'\n",
    "\tstr2 = 'GeekstQuiz'\n",
    "\tlongestSubstring(str1,str2) \n",
    "\n"
   ]
  },
  {
   "cell_type": "code",
   "execution_count": 19,
   "metadata": {},
   "outputs": [
    {
     "name": "stdout",
     "output_type": "stream",
     "text": [
      " عارفه\n"
     ]
    }
   ],
   "source": [
    "longestSubstring('های عارفه','من کیم ؟ خب عارفه دیگه') "
   ]
  },
  {
   "cell_type": "code",
   "execution_count": 33,
   "metadata": {},
   "outputs": [
    {
     "name": "stdout",
     "output_type": "stream",
     "text": [
      "No longest common sub-string found\n"
     ]
    }
   ],
   "source": [
    "str_1 = ''\n",
    "str_2 = ''\n",
    "longestSubstring(str_1, str_2); "
   ]
  }
 ],
 "metadata": {
  "kernelspec": {
   "display_name": "Python 3",
   "language": "python",
   "name": "python3"
  },
  "language_info": {
   "codemirror_mode": {
    "name": "ipython",
    "version": 3
   },
   "file_extension": ".py",
   "mimetype": "text/x-python",
   "name": "python",
   "nbconvert_exporter": "python",
   "pygments_lexer": "ipython3",
   "version": "3.6.8"
  }
 },
 "nbformat": 4,
 "nbformat_minor": 2
}
